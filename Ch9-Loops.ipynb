{
 "cells": [
  {
   "cell_type": "markdown",
   "metadata": {},
   "source": [
    "# Loops / Iterations\n",
    "- loops makes computer to execute a block of code a number of times\n",
    "- loops allow us to run the same code over and again, each time with a different value\n",
    "- loops are often used "
   ]
  },
  {
   "cell_type": "code",
   "execution_count": null,
   "metadata": {},
   "outputs": [],
   "source": []
  }
 ],
 "metadata": {
  "kernelspec": {
   "display_name": "Javascript (Node.js)",
   "language": "javascript",
   "name": "javascript"
  },
  "language_info": {
   "file_extension": ".js",
   "mimetype": "application/javascript",
   "name": "javascript",
   "version": "10.10.0"
  }
 },
 "nbformat": 4,
 "nbformat_minor": 2
}
