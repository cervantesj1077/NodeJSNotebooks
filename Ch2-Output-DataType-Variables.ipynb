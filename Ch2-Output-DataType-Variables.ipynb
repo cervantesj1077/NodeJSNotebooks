{
 "cells": [
  {
   "cell_type": "markdown",
   "metadata": {},
   "source": [
    "# Fundamentals, Output, Data types, Variables, Operators"
   ]
  },
  {
   "cell_type": "markdown",
   "metadata": {},
   "source": [
    "## Syntax & Statements\n",
    "    - JS program/script is a sequence of statements that usually solves some problem\n",
    "    - statements are typically written one line at a time\n",
    "    - semicolon separates the statements though it is optional\n",
    "    - semicolon required to write multiple statements in one line\n",
    "    - syntax somewhat similar to Python and C++/Java"
   ]
  },
  {
   "cell_type": "markdown",
   "metadata": {},
   "source": [
    "## Basic building blocks of programming\n",
    "1. Output\n",
    "2. Input\n",
    "3. Math operations\n",
    "4. Conditionals/Logics\n",
    "5. Loops/Iterations"
   ]
  },
  {
   "cell_type": "markdown",
   "metadata": {},
   "source": [
    "## Output\n",
    "    - JS can display data in various ways\n"
   ]
  },
  {
   "cell_type": "raw",
   "metadata": {},
   "source": [
    "1. Write output into the HTML document using document.write()\n",
    "\n",
    "    <script>\n",
    "        // note: document.write() will delete all existing HTML\n",
    "        // and used only for testing\n",
    "        /* Multiline \n",
    "           comments \n",
    "           Author name:\n",
    "           Program description: \n",
    "           Date:\n",
    "           Copyright info etc.\n",
    "        */\n",
    "        document.write(10 + 23);\n",
    "    </script>\n",
    "\n",
    "2. write into an HTML element using innerHTML\n",
    "\n",
    "    <p id=”demo”></p>\n",
    "    <script>\n",
    "        document.getElementById(“demo”).innerHTML = 10 + 23;\n",
    "    </script>\n",
    "\n",
    "3. Use alert box to display data\n",
    "    <script>\n",
    "        window.alert(10+33);\n",
    "    </script>\n",
    "\n",
    "4. Using console.log()\n",
    "    <script>\n",
    "        console.log(5+6);\n",
    "        // used for debugging purpose;\n",
    "        // see the output on chrome: Insecpt Element -> Console table\n",
    "    </script>"
   ]
  },
  {
   "cell_type": "markdown",
   "metadata": {},
   "source": [
    "// and /* */ are used for single and multiline comments respectively"
   ]
  },
  {
   "cell_type": "markdown",
   "metadata": {},
   "source": [
    "## Data types\n",
    "- numbers (both integers and floats are numbers and stored as 8 bytes floating point number)\n",
    "- text - string represrented using single or double quotes\n",
    "- boolean - true or false\n",
    "- undefined (type and value both unknown)"
   ]
  },
  {
   "cell_type": "markdown",
   "metadata": {},
   "source": [
    "# Variables\n",
    "- named memory location/containers for storing data values \n",
    "- data type of variable depends on the type of data stored (dynamically typed language)\n",
    "- variables are case sensitive\n",
    "- syntax: \n",
    "    var name = value;\n",
    "- = assignment operator that lets store value into a variable\n",
    "- value stored in variables can change\n",
    "- general rules for variables names:\n",
    "    - can contain letters, digits, underscores, and dollar signs\n",
    "    - can begin with $, _ or letter but not a digit\n",
    "    - reserved keywords cannot be used as names such as if, break, continue, else, while, etc.\n",
    "    - use concise self describing names\n",
    "    - use _ or camelCase to declare multipleWordVariableNames"
   ]
  },
  {
   "cell_type": "code",
   "execution_count": 57,
   "metadata": {},
   "outputs": [],
   "source": [
    "var name = \"John\""
   ]
  },
  {
   "cell_type": "code",
   "execution_count": 58,
   "metadata": {},
   "outputs": [],
   "source": [
    "var lastName = 'Smith'"
   ]
  },
  {
   "cell_type": "code",
   "execution_count": 59,
   "metadata": {},
   "outputs": [
    {
     "name": "stdout",
     "output_type": "stream",
     "text": [
      "John\n"
     ]
    }
   ],
   "source": [
    "console.log(name)"
   ]
  },
  {
   "cell_type": "code",
   "execution_count": 60,
   "metadata": {},
   "outputs": [
    {
     "data": {
      "text/plain": [
       "3.9"
      ]
     },
     "execution_count": 60,
     "metadata": {},
     "output_type": "execute_result"
    }
   ],
   "source": [
    "age = 21\n",
    "gpa = 3.9"
   ]
  },
  {
   "cell_type": "code",
   "execution_count": 61,
   "metadata": {},
   "outputs": [
    {
     "name": "stdout",
     "output_type": "stream",
     "text": [
      "age = 21 gpa = 3.9\n"
     ]
    }
   ],
   "source": [
    "console.log(\"age =\", age, \"gpa =\", gpa)"
   ]
  },
  {
   "cell_type": "code",
   "execution_count": 62,
   "metadata": {},
   "outputs": [
    {
     "name": "stdout",
     "output_type": "stream",
     "text": [
      "31\n"
     ]
    }
   ],
   "source": [
    "age = 31\n",
    "console.log(age)"
   ]
  },
  {
   "cell_type": "code",
   "execution_count": 63,
   "metadata": {},
   "outputs": [
    {
     "data": {
      "text/plain": [
       "1"
      ]
     },
     "execution_count": 63,
     "metadata": {},
     "output_type": "execute_result"
    }
   ],
   "source": [
    "// type of data stored in variables can change dynamically as the value changes\n",
    "value = 1 // integer number"
   ]
  },
  {
   "cell_type": "code",
   "execution_count": 64,
   "metadata": {},
   "outputs": [
    {
     "data": {
      "text/plain": [
       "2.3"
      ]
     },
     "execution_count": 64,
     "metadata": {},
     "output_type": "execute_result"
    }
   ],
   "source": [
    "value = 2.3 // float number"
   ]
  },
  {
   "cell_type": "code",
   "execution_count": 65,
   "metadata": {},
   "outputs": [
    {
     "data": {
      "text/plain": [
       "'hi'"
      ]
     },
     "execution_count": 65,
     "metadata": {},
     "output_type": "execute_result"
    }
   ],
   "source": [
    "value = \"hi\" // string"
   ]
  },
  {
   "cell_type": "code",
   "execution_count": 66,
   "metadata": {},
   "outputs": [
    {
     "data": {
      "text/plain": [
       "false"
      ]
     },
     "execution_count": 66,
     "metadata": {},
     "output_type": "execute_result"
    }
   ],
   "source": [
    "value = false // boolean"
   ]
  },
  {
   "cell_type": "code",
   "execution_count": 67,
   "metadata": {},
   "outputs": [],
   "source": [
    "value = undefined"
   ]
  },
  {
   "cell_type": "markdown",
   "metadata": {},
   "source": [
    "## operators and operations\n",
    "- +, -, &ast;, /, %, &ast;&ast;, ++, -- (pre and post increment and decrement)\n",
    "- \\+ used with string to concatenate two or more strings together\n"
   ]
  },
  {
   "cell_type": "markdown",
   "metadata": {},
   "source": [
    "## math operations"
   ]
  },
  {
   "cell_type": "code",
   "execution_count": 68,
   "metadata": {},
   "outputs": [],
   "source": [
    "var num1 = 10\n",
    "var num2 = 15"
   ]
  },
  {
   "cell_type": "code",
   "execution_count": 69,
   "metadata": {},
   "outputs": [
    {
     "name": "stdout",
     "output_type": "stream",
     "text": [
      "10 '+' 15 '=' 25\n",
      "10 '-' 15 '=' -5\n",
      "10 '*' 15 '=' 150\n",
      "10 '/' 15 '=' 0.6666666666666666\n",
      "10 '**' 15 '=' 1000000000000000\n",
      "10 '%' 15 '=' 10\n"
     ]
    }
   ],
   "source": [
    "console.log(num1, \"+\", num2, '=', num1+num2)\n",
    "console.log(num1, '-', num2, '=', num1-num2)\n",
    "console.log(num1, '*', num2, '=', num1*num2)\n",
    "console.log(num1, '/', num2, '=', num1/num2)\n",
    "console.log(num1, '**', num2, '=', num1**num2)\n",
    "console.log(num1, '%', num2, '=', num1%num2)"
   ]
  },
  {
   "cell_type": "code",
   "execution_count": 70,
   "metadata": {},
   "outputs": [
    {
     "name": "stdout",
     "output_type": "stream",
     "text": [
      "10\n",
      "11\n"
     ]
    }
   ],
   "source": [
    "// postincrement\n",
    "var i = 10\n",
    "console.log(i++)\n",
    "console.log(i)"
   ]
  },
  {
   "cell_type": "code",
   "execution_count": 71,
   "metadata": {},
   "outputs": [
    {
     "name": "stdout",
     "output_type": "stream",
     "text": [
      "11\n",
      "11\n"
     ]
    }
   ],
   "source": [
    "// preincrement\n",
    "var i = 10\n",
    "console.log(++i)\n",
    "console.log(i)"
   ]
  },
  {
   "cell_type": "code",
   "execution_count": 72,
   "metadata": {},
   "outputs": [
    {
     "name": "stdout",
     "output_type": "stream",
     "text": [
      "9\n",
      "9\n"
     ]
    }
   ],
   "source": [
    "// predecrement\n",
    "var i = 10\n",
    "console.log(--i)\n",
    "console.log(i)"
   ]
  },
  {
   "cell_type": "code",
   "execution_count": 73,
   "metadata": {},
   "outputs": [
    {
     "name": "stdout",
     "output_type": "stream",
     "text": [
      "10\n",
      "9\n"
     ]
    }
   ],
   "source": [
    "// postdecrement\n",
    "var i = 10\n",
    "console.log(i--)\n",
    "console.log(i)"
   ]
  },
  {
   "cell_type": "code",
   "execution_count": 74,
   "metadata": {},
   "outputs": [],
   "source": [
    "var x = 5+5\n",
    "var y = \"5\"+5\n",
    "var z = \"Hello\" + 5 + 11\n",
    "var name = \"John\" + \" \" + \"Smith\"\n",
    "var val = 10 + 20 + \"apple\""
   ]
  },
  {
   "cell_type": "code",
   "execution_count": 75,
   "metadata": {},
   "outputs": [
    {
     "name": "stdout",
     "output_type": "stream",
     "text": [
      "10 '55' 'Hello511' 'John Smith' '30apple'\n"
     ]
    }
   ],
   "source": [
    "console.log(x, y, z, name, val)"
   ]
  },
  {
   "cell_type": "code",
   "execution_count": 76,
   "metadata": {},
   "outputs": [
    {
     "data": {
      "text/plain": [
       "NaN"
      ]
     },
     "execution_count": 76,
     "metadata": {},
     "output_type": "execute_result"
    }
   ],
   "source": [
    "\"hi\"*3"
   ]
  },
  {
   "cell_type": "code",
   "execution_count": 77,
   "metadata": {},
   "outputs": [
    {
     "name": "stdout",
     "output_type": "stream",
     "text": [
      "number\n",
      "string\n",
      "number\n",
      "number\n",
      "number\n"
     ]
    }
   ],
   "source": [
    "console.log(typeof(0))\n",
    "console.log(typeof(\"314\"))\n",
    "console.log(typeof(3.14))\n",
    "console.log(typeof(3))\n",
    "console.log(typeof(3+4))"
   ]
  },
  {
   "cell_type": "code",
   "execution_count": null,
   "metadata": {},
   "outputs": [],
   "source": []
  },
  {
   "cell_type": "code",
   "execution_count": null,
   "metadata": {},
   "outputs": [],
   "source": []
  }
 ],
 "metadata": {
  "kernelspec": {
   "display_name": "Javascript (Node.js)",
   "language": "javascript",
   "name": "javascript"
  },
  "language_info": {
   "file_extension": ".js",
   "mimetype": "application/javascript",
   "name": "javascript",
   "version": "10.10.0"
  }
 },
 "nbformat": 4,
 "nbformat_minor": 2
}
