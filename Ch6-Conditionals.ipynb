{
 "cells": [
  {
   "cell_type": "markdown",
   "metadata": {},
   "source": [
    "# Conditionals\n",
    "- statements that are used to perform different actions based on different conditions\n",
    "- if, else, else if, and switch keyword help us create conditional statements\n",
    "- helps us add or use logic into the programs to change the behavior of programs"
   ]
  },
  {
   "cell_type": "markdown",
   "metadata": {},
   "source": [
    "## Boolean expressions\n",
    "- expression that is either true or false, off or on, yes or no\n",
    "- boolean expressions help us create conditions\n",
    "- boolean operators:\n",
    "- == - equal to (not assignment but comparing two values)\n",
    "- != - not equal\n",
    "- === - equality in both type and value\n",
    "- !=== - not equal value or not equal type\n",
    "- &gt; - greater than\n",
    "- &lt; - less than\n",
    "- &gt;= - greater than or equal to\n",
    "- &lt;= - less than or equal to"
   ]
  },
  {
   "cell_type": "code",
   "execution_count": null,
   "metadata": {},
   "outputs": [],
   "source": [
    "console.log(5 == 5);\n",
    "console.log(5 != 5);"
   ]
  },
  {
   "cell_type": "code",
   "execution_count": null,
   "metadata": {},
   "outputs": [],
   "source": [
    "x = 10\n",
    "console.log(x == 10);\n",
    "console.log(x == '10');\n",
    "console.log(x === 10);\n",
    "console.log(x === '10');"
   ]
  },
  {
   "cell_type": "code",
   "execution_count": null,
   "metadata": {},
   "outputs": [],
   "source": [
    "console.log(x > 15);\n",
    "console.log(x >= 10);"
   ]
  },
  {
   "cell_type": "code",
   "execution_count": null,
   "metadata": {},
   "outputs": [],
   "source": [
    "console.log(x < 100);\n",
    "console.log(x <= 9);"
   ]
  },
  {
   "cell_type": "code",
   "execution_count": null,
   "metadata": {},
   "outputs": [],
   "source": [
    "console.log('apple' < 'ball');\n",
    "console.log('Apple' > 'apple');"
   ]
  },
  {
   "cell_type": "code",
   "execution_count": null,
   "metadata": {},
   "outputs": [],
   "source": [
    "console.log('2' < '12'); // alphabetically or ascii value comparison"
   ]
  },
  {
   "cell_type": "markdown",
   "metadata": {},
   "source": [
    "## Logical Operators\n",
    "- help us determine the logic between multiple boolean expressions\n",
    "- && - and\n",
    "- Truth table for &&\n",
    "    - T && T => T\n",
    "    - T && F => F\n",
    "    - F && T => F\n",
    "    - F && F => F\n",
    "- || - or\n",
    "- Truth table for ||\n",
    "    - T || T => T\n",
    "    - T || F => T\n",
    "    - F || T => T\n",
    "    - F || F => F\n",
    "- ! - not\n",
    "    - !T => F\n",
    "    - !F => T"
   ]
  },
  {
   "cell_type": "code",
   "execution_count": null,
   "metadata": {},
   "outputs": [],
   "source": [
    "x = 5;\n",
    "y = 15;"
   ]
  },
  {
   "cell_type": "code",
   "execution_count": null,
   "metadata": {},
   "outputs": [],
   "source": [
    "console.log(x < 10 && y > 1);\n",
    "console.log(x < 10 && y > 15);\n",
    "console.log(x >= 10 && y <= 10);"
   ]
  },
  {
   "cell_type": "code",
   "execution_count": null,
   "metadata": {},
   "outputs": [],
   "source": [
    "console.log(x >= 5 || y > 100);\n",
    "console.log(x >= 100 || y >= 100);"
   ]
  },
  {
   "cell_type": "markdown",
   "metadata": {},
   "source": [
    "## Conditional execution\n",
    "### One way selection - if statement\n",
    "- syntax:\n",
    "\n",
    "    if (condition) {\n",
    "        block of code to be executed if the condition is true\n",
    "    }"
   ]
  },
  {
   "cell_type": "code",
   "execution_count": null,
   "metadata": {},
   "outputs": [],
   "source": [
    "hour = 8;\n",
    "if (hour < 12) {\n",
    "    console.log('Good morning!');\n",
    "}"
   ]
  },
  {
   "cell_type": "markdown",
   "metadata": {},
   "source": [
    "## Two way selection - if ... else ... statements\n",
    "- syntax:\n",
    "    \n",
    "    if (condition) {\n",
    "        block of code to be executed if the condition is true\n",
    "    }\n",
    "    else {\n",
    "        block of code to be executed if the condition is false\n",
    "    }"
   ]
  },
  {
   "cell_type": "code",
   "execution_count": null,
   "metadata": {},
   "outputs": [],
   "source": [
    "hour = 12\n",
    "if (hour < 12) {\n",
    "    console.log('Good morning!');\n",
    "}\n",
    "else {\n",
    "    console.log('Good afternoon!');\n",
    "}"
   ]
  },
  {
   "cell_type": "markdown",
   "metadata": {},
   "source": [
    "### Multi way selection - if ... else if ... else if ... else statements\n",
    "- syntax:\n",
    "\n",
    "    if (condition1) {\n",
    "        execute this block if condition1 is true\n",
    "    }\n",
    "    else if (condition2) {\n",
    "        execute this block if condition2 is true\n",
    "    }\n",
    "    \n",
    "    ...\n",
    "    \n",
    "    else {\n",
    "        execute this block if no condition before is true\n",
    "    }"
   ]
  },
  {
   "cell_type": "code",
   "execution_count": null,
   "metadata": {},
   "outputs": [],
   "source": [
    "hour = 18;\n",
    "var greeting;\n",
    "if (hour < 12) {\n",
    "    greeting = \"Good morning!\";\n",
    "} else if (hour < 17) {\n",
    "    greeting = \"Good day!\";\n",
    "} else {\n",
    "    greeting = \"Good evening!\";\n",
    "}\n",
    "console.log(greeting);"
   ]
  },
  {
   "cell_type": "code",
   "execution_count": null,
   "metadata": {},
   "outputs": [],
   "source": []
  }
 ],
 "metadata": {
  "kernelspec": {
   "display_name": "Javascript (Node.js)",
   "language": "javascript",
   "name": "javascript"
  },
  "language_info": {
   "file_extension": ".js",
   "mimetype": "application/javascript",
   "name": "javascript",
   "version": "10.10.0"
  }
 },
 "nbformat": 4,
 "nbformat_minor": 2
}
